{
  "cells": [
    {
      "cell_type": "markdown",
      "metadata": {},
      "source": [
        "# 🧠 Gemini AI Health Monitoring Assistant\n",
        "\n",
        "This notebook integrates health data with Gemini AI to enable GenAI-powered features like RAG, document summarization, and JSON output generation."
      ]
    },
    {
      "cell_type": "code",
      "execution_count": 1,
      "metadata": {},
      "outputs": [
        {
          "name": "stderr",
          "output_type": "stream",
          "text": [
            "ERROR: pip's dependency resolver does not currently take into account all the packages that are installed. This behaviour is the source of the following dependency conflicts.\n",
            "tensorflow-intel 2.17.0 requires protobuf!=4.21.0,!=4.21.1,!=4.21.2,!=4.21.3,!=4.21.4,!=4.21.5,<5.0.0dev,>=3.20.3, but you have protobuf 5.29.4 which is incompatible.\n"
          ]
        }
      ],
      "source": [
        "# ✅ Step 1: Install Dependencies\n",
        "!pip install -q google-generativeai chromadb pandas langchain pymupdf"
      ]
    },
    {
      "cell_type": "code",
      "execution_count": null,
      "metadata": {},
      "outputs": [],
      "source": [
        "# ✅ Step 2: Set up Gemini AI\n",
        "import google.generativeai as genai\n",
        "\n",
        "# Replace with your actual Gemini API key\n",
        "genai.configure(api_key=\"YOUR_GEMINI_API_KEY\")"
      ]
    },
    {
      "cell_type": "code",
      "execution_count": null,
      "metadata": {},
      "outputs": [],
      "source": [
        "# ✅ Step 3: Load Sample Health Data\n",
        "import pandas as pd\n",
        "\n",
        "data = {\n",
        "    'timestamp': pd.date_range(start='2025-04-01', periods=7, freq='D'),\n",
        "    'heart_rate': [75, 78, 82, 88, 90, 76, 80],\n",
        "    'body_temp': [36.7, 36.8, 37.1, 37.4, 37.2, 36.9, 37.0],\n",
        "    'hrv': [70, 65, 60, 58, 59, 66, 68]\n",
        "}\n",
        "df = pd.DataFrame(data)\n",
        "df"
      ]
    },
    {
      "cell_type": "code",
      "execution_count": null,
      "metadata": {},
      "outputs": [],
      "source": [
        "# ✅ Step 4: Embed and Store Data using ChromaDB\n",
        "import chromadb\n",
        "from langchain.vectorstores import Chroma\n",
        "from langchain.embeddings import GoogleGenerativeAIEmbeddings\n",
        "\n",
        "chroma_client = chromadb.Client()\n",
        "embedding = GoogleGenerativeAIEmbeddings(model=\"models/embedding-001\")\n",
        "\n",
        "texts = [\n",
        "    f\"On {row['timestamp'].date()}, heart rate was {row['heart_rate']} bpm, temperature was {row['body_temp']}°C, HRV was {row['hrv']} ms\"\n",
        "    for _, row in df.iterrows()\n",
        "]\n",
        "docs = [{\"id\": str(i), \"text\": t} for i, t in enumerate(texts)]\n",
        "\n",
        "collection = chroma_client.create_collection(name=\"health_data\")\n",
        "for doc in docs:\n",
        "    collection.add(documents=[doc[\"text\"]], ids=[doc[\"id\"]])\n",
        "\n",
        "print(\"Embedded documents into vector store.\")"
      ]
    },
    {
      "cell_type": "code",
      "execution_count": null,
      "metadata": {},
      "outputs": [],
      "source": [
        "# ✅ Step 5: Ask Health-Related Questions (RAG Style)\n",
        "query = \"How was my health trend over the past week?\"\n",
        "retrieved = collection.query(query_texts=[query], n_results=3)\n",
        "relevant_text = \"\\n\".join([doc for doc in retrieved[\"documents\"][0]])\n",
        "\n",
        "response = genai.GenerativeModel(\"gemini-pro\").generate_content(\n",
        "    f\"Based on the following health data:\\n{relevant_text}\\n\\nAnswer this question:\\n{query}\"\n",
        ")\n",
        "print(response.text)"
      ]
    },
    {
      "cell_type": "code",
      "execution_count": null,
      "metadata": {},
      "outputs": [],
      "source": [
        "# ✅ Step 6: Summarize a PDF Report (Optional)\n",
        "import fitz  # PyMuPDF\n",
        "from google.colab import files\n",
        "\n",
        "uploaded = files.upload()\n",
        "file_path = next(iter(uploaded))\n",
        "\n",
        "doc = fitz.open(file_path)\n",
        "text = \"\\n\".join([page.get_text() for page in doc])\n",
        "\n",
        "summary = genai.GenerativeModel(\"gemini-pro\").generate_content(\n",
        "    f\"Summarize this medical report:\\n{text}\"\n",
        ")\n",
        "print(summary.text)"
      ]
    },
    {
      "cell_type": "code",
      "execution_count": null,
      "metadata": {},
      "outputs": [],
      "source": [
        "# ✅ Step 7: Generate JSON Health Summary (Optional)\n",
        "response_json = genai.GenerativeModel(\"gemini-pro\").generate_content(\n",
        "    f\"\"\"Based on this health data:\\n{relevant_text}\\n\n",
        "    Return a JSON object like this:\n",
        "    {{\n",
        "        \\\"summary\\\": \\\"brief summary\\\",\n",
        "        \\\"average_heart_rate\\\": value,\n",
        "        \\\"average_temperature\\\": value,\n",
        "        \\\"hrv_trend\\\": \\\"increasing/decreasing\\\",\n",
        "        \\\"status\\\": \\\"Healthy/Critical\\\"\n",
        "    }}\n",
        "    \"\"\"\n",
        ")\n",
        "print(response_json.text)"
      ]
    }
  ],
  "metadata": {
    "kernelspec": {
      "display_name": "Python 3",
      "language": "python",
      "name": "python3"
    },
    "language_info": {
      "codemirror_mode": {
        "name": "ipython",
        "version": 3
      },
      "file_extension": ".py",
      "mimetype": "text/x-python",
      "name": "python",
      "nbconvert_exporter": "python",
      "pygments_lexer": "ipython3",
      "version": "3.11.9"
    }
  },
  "nbformat": 4,
  "nbformat_minor": 2
}
